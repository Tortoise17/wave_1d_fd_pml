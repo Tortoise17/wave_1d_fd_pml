{
 "cells": [
  {
   "cell_type": "code",
   "execution_count": null,
   "metadata": {
    "collapsed": false
   },
   "outputs": [],
   "source": [
    "from wave_1d_fd_pml import propagators, test_wave_1d_fd_pml, find_profile\n",
    "import matplotlib.pyplot as plt\n",
    "%matplotlib inline\n",
    "import numpy as np"
   ]
  },
  {
   "cell_type": "code",
   "execution_count": null,
   "metadata": {
    "collapsed": true
   },
   "outputs": [],
   "source": [
    "profile_len = 10\n",
    "x, profile = find_profile_linear(profile_len, intercept_bounds=[5000, 5000], slope_bounds=[-500, 500], vs=[1500], maxiter=500)"
   ]
  },
  {
   "cell_type": "code",
   "execution_count": null,
   "metadata": {
    "collapsed": false
   },
   "outputs": [],
   "source": [
    "model = test_wave_1d_fd_pml.model_one(400, v0=5000, v1=1500, freq=15)\n",
    "plt.plot(profile)\n",
    "v = propagators.Pml(model['model'], model['dx'], model['dt'], len(profile), profile=profile)\n",
    "y = v.steps(model['nsteps'], model['sources'], model['sx'])\n",
    "print(np.sum(np.abs(v.current_wavefield)))\n",
    "\n",
    "plt.figure()\n",
    "y[:, v.total_pad] = y[:, -v.total_pad] = np.nan\n",
    "plt.imshow(y[:,:], aspect='auto')\n"
   ]
  }
 ],
 "metadata": {
  "anaconda-cloud": {},
  "kernelspec": {
   "display_name": "Python [Root]",
   "language": "python",
   "name": "Python [Root]"
  },
  "language_info": {
   "codemirror_mode": {
    "name": "ipython",
    "version": 3
   },
   "file_extension": ".py",
   "mimetype": "text/x-python",
   "name": "python",
   "nbconvert_exporter": "python",
   "pygments_lexer": "ipython3",
   "version": "3.5.2"
  }
 },
 "nbformat": 4,
 "nbformat_minor": 0
}
