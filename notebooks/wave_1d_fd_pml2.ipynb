{
 "cells": [
  {
   "cell_type": "code",
   "execution_count": null,
   "metadata": {
    "collapsed": false
   },
   "outputs": [],
   "source": [
    "from wave_1d_fd_pml import propagators, test_wave_1d_fd_pml, find_profile\n",
    "import matplotlib.pyplot as plt\n",
    "%matplotlib inline\n",
    "import numpy as np"
   ]
  },
  {
   "cell_type": "code",
   "execution_count": null,
   "metadata": {
    "collapsed": false
   },
   "outputs": [],
   "source": [
    "vs=[1500, 2250, 3000]\n",
    "profile_lens=[3,6,9,12]\n",
    "profiles = []\n",
    "for v in vs[:1]:\n",
    "    for profile_len in profile_lens[:1]:\n",
    "        profiles.append(find_profile.find_profile2(profile_len, v=v, nsteps=500))"
   ]
  },
  {
   "cell_type": "code",
   "execution_count": null,
   "metadata": {
    "collapsed": false
   },
   "outputs": [],
   "source": [
    "profiles"
   ]
  },
  {
   "cell_type": "code",
   "execution_count": null,
   "metadata": {
    "collapsed": false
   },
   "outputs": [],
   "source": [
    "for p,_ in enumerate(profile_lens):\n",
    "    #plt.figure()\n",
    "    v=0\n",
    "    #for v in range(3):\n",
    "    plt.plot(profiles[v*4+p])"
   ]
  },
  {
   "cell_type": "code",
   "execution_count": null,
   "metadata": {
    "collapsed": true
   },
   "outputs": [],
   "source": [
    "model = test_wave_1d_fd_pml.model_one(500)\n",
    "v = propagators.Pml(model['model'], model['dx'], model['dt'], 6, profile=1000*np.array(profiles[1]))"
   ]
  },
  {
   "cell_type": "code",
   "execution_count": null,
   "metadata": {
    "collapsed": true
   },
   "outputs": [],
   "source": [
    "y = v.steps(model['nsteps'], model['sources'], model['sx'])"
   ]
  },
  {
   "cell_type": "code",
   "execution_count": null,
   "metadata": {
    "collapsed": false
   },
   "outputs": [],
   "source": [
    "y[:, v.total_pad] = y[:, -v.total_pad] = np.nan\n",
    "plt.imshow(y[:,:], aspect='auto')"
   ]
  }
 ],
 "metadata": {
  "anaconda-cloud": {},
  "kernelspec": {
   "display_name": "Python [Root]",
   "language": "python",
   "name": "Python [Root]"
  },
  "language_info": {
   "codemirror_mode": {
    "name": "ipython",
    "version": 3
   },
   "file_extension": ".py",
   "mimetype": "text/x-python",
   "name": "python",
   "nbconvert_exporter": "python",
   "pygments_lexer": "ipython3",
   "version": "3.5.2"
  }
 },
 "nbformat": 4,
 "nbformat_minor": 0
}
